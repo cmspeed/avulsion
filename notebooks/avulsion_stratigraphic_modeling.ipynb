{
 "cells": [
  {
   "cell_type": "markdown",
   "metadata": {},
   "source": [
    "# Build and visualize 3D stratigraphic model\n",
    "This notebook walks through the generation of a 3D stratigraphic model of the avulsion site. The model takes an initial centerline that represents the first pre-avulsion (T1) channel position. Forward modeling this centerline through time produces the 'last' pre-avulsion (T1) channel position. The next channel opbject is the initial post-avulsion (T2) centerline, which is subsequently forward modeled to produce the 'last' post-avulsion (T2) centerline. We then use the *mayavi* library to visualize the model in 3D"
   ]
  },
  {
   "cell_type": "markdown",
   "metadata": {},
   "source": [
    "### Install necessary dependencies\n",
    "Uncomment the next cell to install Python libraries required for this approach. "
   ]
  },
  {
   "cell_type": "code",
   "execution_count": null,
   "metadata": {},
   "outputs": [],
   "source": [
    "#pip install mayavi matplotlib numpy pandas scipy blockdiagram geopandas shapely stratigraph"
   ]
  },
  {
   "cell_type": "markdown",
   "metadata": {},
   "source": [
    "### Import libraries"
   ]
  },
  {
   "cell_type": "code",
   "execution_count": null,
   "metadata": {},
   "outputs": [],
   "source": [
    "import meanderpy as mp\n",
    "import matplotlib.pyplot as plt\n",
    "import numpy as np\n",
    "import pandas as pd\n",
    "import scipy as sp\n",
    "import blockdiagram as bd\n",
    "import geopandas as gpd\n",
    "from shapely.geometry import LineString\n",
    "import stratigraph as sg\n",
    "%matplotlib qt"
   ]
  },
  {
   "cell_type": "markdown",
   "metadata": {},
   "source": [
    "### Load centerlinee data and prepare them for input to meanderpy"
   ]
  },
  {
   "cell_type": "code",
   "execution_count": null,
   "metadata": {},
   "outputs": [],
   "source": [
    "### We were using this to make the figures\n",
    "centerline_dir = '../modeling/centerlines/'\n",
    "t1_shp = gpd.read_file(centerline_dir+'t1_initial_centerline.shp')\n",
    "\n",
    "### Experimenting with a new t1 initial\n",
    "#t1_shp = gpd.read_file('/Users/cole/Dropbox/Utah_Fieldwork/fluvial_modeling/cm_centerlines/dec2023_centerlines/t1_start_centerline_Jan20.shp')\n",
    "\n",
    "line = t1_shp['geometry'].iloc[0]\n",
    "x, y = line.xy\n",
    "z = np.ones_like(x)\n",
    "x,y,z,_,_,_,_,_ = mp.resample_centerline(x,y,z,5.0)    # resample if needed\n",
    "\n",
    "### Flip coords\n",
    "x = np.flip(x)\n",
    "y = np.flip(y)\n",
    "\n",
    "### Subtract UTM\n",
    "x = x-560000\n",
    "y = y-4300000\n",
    "\n",
    "# Apply Savitzky-Golay filter\n",
    "window_size = 11  # Adjust the window size as needed\n",
    "order = 2  # Adjust the polynomial order as needed\n",
    "\n",
    "x_smooth = sp.signal.savgol_filter(x, window_size, order)\n",
    "y_smooth = sp.signal.savgol_filter(y, window_size, order)\n",
    "\n",
    "### Reassign x,y to their smoothed counterpart\n",
    "x = x_smooth\n",
    "y = y_smooth"
   ]
  },
  {
   "cell_type": "markdown",
   "metadata": {},
   "source": [
    "### Model parameters"
   ]
  },
  {
   "cell_type": "code",
   "execution_count": null,
   "metadata": {},
   "outputs": [],
   "source": [
    "W = 50                 # channel width (m)\n",
    "D = 2.0               # channel depth (m)\n",
    "pad = 10\n",
    "deltas = 5.0\n",
    "nit = 2000            # number of iterations\n",
    "depths = D * np.ones((nit,))\n",
    "Cfs = 0.01 * np.ones((nit,))              # dimensionless Chezy friction factor\n",
    "crdist = 2.0 * W               # threshold distance at which cutoffs occur\n",
    "kl = 2/(365*24*60*60.0)   # migration rate constant (m/s)\n",
    "kv =  1.0E-12               # vertical slope-dependent erosion rate constant (m/s)\n",
    "dt = 2*0.05*365*24*60*60.0     # time step (s)\n",
    "dens = 1000                  # density of water (kg/m3)\n",
    "saved_ts = 200              # which time steps will be saved\n",
    "Sl = 0.0008                     # initial slope (matters more for submarine channels than rivers)\n",
    "t1 = 1                    # time step when incision starts\n",
    "t2 = 1                    # time step when lateral migration starts\n",
    "t3 = 1                    # time step when aggradation starts\n",
    "aggr_factor = 6.34196e-10 #20 mm/yr"
   ]
  },
  {
   "cell_type": "markdown",
   "metadata": {},
   "source": [
    "### Build initial channel belt object"
   ]
  },
  {
   "cell_type": "code",
   "execution_count": null,
   "metadata": {},
   "outputs": [],
   "source": [
    "### Make first channel\n",
    "ch = mp.Channel(x,y,z,W,D)\n",
    "\n",
    "### Make ChannelBelt\n",
    "chb = mp.ChannelBelt(channels=[ch], cutoffs=[], cl_times=[0.0], cutoff_times=[])"
   ]
  },
  {
   "cell_type": "markdown",
   "metadata": {},
   "source": [
    "### Migrate the channel to the last pre-cutoff timestep"
   ]
  },
  {
   "cell_type": "code",
   "execution_count": null,
   "metadata": {},
   "outputs": [],
   "source": [
    "### Migrate channel\n",
    "chb.migrate(nit,saved_ts,deltas,pad,crdist,depths,Cfs,kl,kv,dt,dens,t1,t2,t3,aggr_factor) # channel migration\n"
   ]
  },
  {
   "cell_type": "markdown",
   "metadata": {},
   "source": [
    "### Write the last pre-avulsion (T1) centerline to a shapefile"
   ]
  },
  {
   "cell_type": "code",
   "execution_count": null,
   "metadata": {},
   "outputs": [],
   "source": [
    "# View Last channel centerline coordinates\n",
    "t1_final_x = chb.channels[-1].x.copy() + 560000\n",
    "t1_final_y = chb.channels[-1].y.copy() + 4300000\n",
    "\n",
    "# Create a LineString geometry from x, y coordinates\n",
    "line_geometry = LineString(zip(t1_final_x, t1_final_y))\n",
    "\n",
    "# Create a GeoDataFrame with the LineString geometry\n",
    "gdf_result = gpd.GeoDataFrame(geometry=[line_geometry])\n",
    "\n",
    "# Specify the output shapefile path\n",
    "output_shapefile_t1 = centerline_dir+'t1_final_centerline.shp'\n",
    "\n",
    "# Save the GeoDataFrame to a new shapefile\n",
    "gdf_result.to_file(output_shapefile_t1)"
   ]
  },
  {
   "cell_type": "markdown",
   "metadata": {},
   "source": [
    "### Build pre-avulsion 3D fluvial model"
   ]
  },
  {
   "cell_type": "code",
   "execution_count": null,
   "metadata": {},
   "outputs": [],
   "source": [
    "min_x = 2789.150971221104\n",
    "max_x = 4802.228898997582\n",
    "min_y = 2545.097408532824\n",
    "max_y = 4342.6693798509295"
   ]
  },
  {
   "cell_type": "code",
   "execution_count": null,
   "metadata": {},
   "outputs": [],
   "source": [
    "h_mud = 1.0 * np.ones((len(chb.channels),)) # thickness of overbank deposit for each time step\n",
    "dx = 1 # gridcell size in meters\n",
    "diff_scale = 2.0 * W/dx\n",
    "v_coarse = 10.0 # deposition rate of coarse overbank sediment, in m/year (excluding times of no flooding)\n",
    "v_fine = 0.0 # deposition rate of fine overbank sediment, in m/year (excluding times of no flooding)\n",
    "\n",
    "chb_3d_preAvulsion, xmin, xmax, ymin, ymax, dists, zmaps = mp.build_3d_model(chb, 'fluvial', \n",
    "            h_mud=h_mud, h=4.0, w=W, \n",
    "            bth=0.0, dcr=10.0, dx=dx, delta_s=deltas, dt=dt, starttime=chb.cl_times[0], endtime=chb.cl_times[-1],\n",
    "            diff_scale=diff_scale, v_fine=v_fine, v_coarse=v_coarse, \n",
    "            xmin=min_x-100, xmax=max_x+100, ymin=min_y-100, ymax=max_y+100)"
   ]
  },
  {
   "cell_type": "markdown",
   "metadata": {},
   "source": [
    "### Import the initial post-avulsion (T2) centerline\n",
    "This will not be generated automatically. 't2_initial_centerline.shp' is contained in the data repository and will be pathed automatically."
   ]
  },
  {
   "cell_type": "code",
   "execution_count": null,
   "metadata": {},
   "outputs": [],
   "source": [
    "t2_shp = gpd.read_file(centerline_dir+'t2_initial_centerline.shp')\n",
    "line = t2_shp['geometry'].iloc[0]\n",
    "x, y = line.xy\n",
    "z = np.ones_like(x)\n",
    "x,y,z,_,_,_,_,_ = mp.resample_centerline(x,y,z,5.0)    # resample if needed\n",
    "\n",
    "x = x-560000\n",
    "y = y-4300000\n",
    "\n",
    "# Apply Savitzky-Golay filter\n",
    "window_size = 31  # Adjust the window size as needed\n",
    "order = 2  # Adjust the polynomial order as needed\n",
    "\n",
    "x_smooth = sp.signal.savgol_filter(x, window_size, order)\n",
    "y_smooth = sp.signal.savgol_filter(y, window_size, order)\n",
    "\n",
    "## Reassign x,y to their smoothed counterpart\n",
    "x = x_smooth\n",
    "y = y_smooth"
   ]
  },
  {
   "cell_type": "markdown",
   "metadata": {},
   "source": [
    "### Plot the the last centerline to see how many points should be held constant\n",
    "Use the zoom to to inspect what node number the avulsion coincides with. Depth upstream of this node should be held constant"
   ]
  },
  {
   "cell_type": "code",
   "execution_count": null,
   "metadata": {},
   "outputs": [],
   "source": [
    "### Plot with z values labeled to make sure things make sense\n",
    "fix, ax = plt.subplots()\n",
    "ax.plot(chb.channels[0].x,chb.channels[0].y,'grey',label='Pre-avulsion initial centerline')\n",
    "ax.plot(chb.channels[-1].x, chb.channels[-1].y,'k-',label='Post-avulsion initial centerline')\n",
    "\n",
    "ax.plot(x,y,'r-',label='t2_initial')\n",
    "ax.plot(x,y,'k.')\n",
    "for i, val in enumerate(x):\n",
    "    if i % 5 == 0:\n",
    "        ax.text(val, y[i], i)\n",
    "\n",
    "plt.legend()\n",
    "plt.axis('equal');"
   ]
  },
  {
   "cell_type": "code",
   "execution_count": null,
   "metadata": {},
   "outputs": [],
   "source": [
    "def generate_z_coordinates_with_constant(x_coordinates, y_coordinates, constant_values_count, lower_bound, upper_bound):\n",
    "    z_coordinates = []\n",
    "\n",
    "    # Set the first N values to a constant\n",
    "    z_coordinates.extend([upper_bound] * min(constant_values_count, len(x_coordinates)))\n",
    "\n",
    "    for i in range(constant_values_count, len(x_coordinates)):\n",
    "        # Calculate z based on distance from the first (x, y) pair\n",
    "        Z = upper_bound - (i - constant_values_count) * ((upper_bound - lower_bound) / (len(x_coordinates) - constant_values_count - 1))\n",
    "\n",
    "        # Ensure z is within the specified bounds\n",
    "        Z = max(min(Z, upper_bound), lower_bound)\n",
    "\n",
    "        z_coordinates.append(Z)\n",
    "        z_coords = np.asarray(z_coordinates)\n",
    "    return z_coords\n"
   ]
  },
  {
   "cell_type": "markdown",
   "metadata": {},
   "source": [
    "### Modify z values to emulate floodplain topography\n",
    "The avulsion corresponds to node 225; all values upstream are held constant and values downstream decrease linearly away from the avulsion."
   ]
  },
  {
   "cell_type": "code",
   "execution_count": null,
   "metadata": {},
   "outputs": [],
   "source": [
    "N = 225\n",
    "z = generate_z_coordinates_with_constant(x, y, N, np.min(chb.channels[0].z), np.max(chb.channels[-1].z))"
   ]
  },
  {
   "cell_type": "markdown",
   "metadata": {},
   "source": [
    "## Plot all the different centerlines to ensure they make sense"
   ]
  },
  {
   "cell_type": "code",
   "execution_count": null,
   "metadata": {},
   "outputs": [],
   "source": [
    "### Plot with z values labeled to make sure things make sense\n",
    "fix, ax = plt.subplots()\n",
    "ax.plot(chb.channels[0].x,chb.channels[0].y,'grey', linestyle='--',label='Pre-avulsion initial centerline')\n",
    "ax.plot(chb.channels[-1].x, chb.channels[-1].y,'k-',label='Post-avulsion initial centerline')\n",
    "\n",
    "### Plot initial centerline configuration with elevations \n",
    "for i, val in enumerate(chb.channels[0].x):\n",
    "        if i % 10 == 0:\n",
    "            ax.plot(chb.channels[0].x[i], chb.channels[0].y[i],'k.')\n",
    "            ax.text(chb.channels[0].x[i]+10, chb.channels[0].y[i], round(chb.channels[0].z[i], 2))\n",
    "\n",
    "### Plot final pre-avulsion centerline with elevations\n",
    "for i, val in enumerate(chb.channels[-1].x):\n",
    "        if i % 10 == 0 and i > 225:\n",
    "            ax.plot(chb.channels[-1].x[i], chb.channels[-1].y[i],'k.')\n",
    "            ax.text(chb.channels[-1].x[i]+10, chb.channels[-1].y[i], round(chb.channels[-1].z[i], 2))\n",
    "\n",
    "ax.plot(x,y,'g-',label='Post-avulsion initial centerline')\n",
    "#ax.plot(x,y,'k.')\n",
    "for i, val in enumerate(x):\n",
    "    if i % 10 == 0:\n",
    "        ax.plot(x[i],y[i],'k.')\n",
    "        ax.text(val+10, y[i], round(z[i], 2))\n",
    "plt.legend(loc='best')\n",
    "plt.axis('equal')"
   ]
  },
  {
   "cell_type": "markdown",
   "metadata": {},
   "source": [
    "## Initialize model for post avulsion (T2 channel) migration"
   ]
  },
  {
   "cell_type": "code",
   "execution_count": null,
   "metadata": {},
   "outputs": [],
   "source": [
    "### Make first t2 channel\n",
    "ch2 = mp.Channel(x,y,z,W,D)\n",
    "chb.channels.append(ch2)"
   ]
  },
  {
   "cell_type": "markdown",
   "metadata": {},
   "source": [
    "## Run Simulation for post-avulsion (T2 channel) migration"
   ]
  },
  {
   "cell_type": "code",
   "execution_count": null,
   "metadata": {},
   "outputs": [],
   "source": [
    "chb.migrate(nit,saved_ts,deltas,pad,crdist,depths,Cfs,kl,kv,dt,dens,t1,t2,t3,aggr_factor) # channel migration\n",
    "fig = chb.plot('strat', 20, 60, chb.cl_times[-1], len(chb.channels)) # plotting"
   ]
  },
  {
   "cell_type": "markdown",
   "metadata": {},
   "source": [
    "### Export final T2 centerline"
   ]
  },
  {
   "cell_type": "code",
   "execution_count": null,
   "metadata": {},
   "outputs": [],
   "source": [
    "# View Last channel centerline coordinates\n",
    "t2_final_x = chb.channels[-1].x.copy() + 560000\n",
    "t2_final_y = chb.channels[-1].y.copy() + 4300000\n",
    "\n",
    "# Create a LineString geometry from x, y coordinates\n",
    "line_geometry = LineString(zip(t2_final_x, t2_final_y))\n",
    "\n",
    "# Create a GeoDataFrame with the LineString geometry\n",
    "gdf_result = gpd.GeoDataFrame(geometry=[line_geometry])\n",
    "\n",
    "# Specify the output shapefile path\n",
    "output_shapefile_t2 = centerline_dir+'t2_final_centerline.shp'\n",
    "\n",
    "# Save the GeoDataFrame to a new shapefile\n",
    "gdf_result.to_file(output_shapefile_t2)"
   ]
  },
  {
   "cell_type": "markdown",
   "metadata": {},
   "source": [
    "### Plot all initial and final centerlines for QC"
   ]
  },
  {
   "cell_type": "code",
   "execution_count": null,
   "metadata": {},
   "outputs": [],
   "source": [
    "### Plot with z values labeled to make sure things make sense\n",
    "fix, ax = plt.subplots()\n",
    "ax.plot(chb.channels[0].x,chb.channels[0].y,'k', linestyle='--',label='Pre-avulsion initial centerline')\n",
    "ax.plot(chb.channels[9].x, chb.channels[9].y,'k', linestyle='-', label='Post-avulsion final centerline')\n",
    "ax.plot(chb.channels[10].x, chb.channels[10].y,'g', linestyle='--', label='Post-avulsion initial centerline')\n",
    "ax.plot(chb.channels[-1].x, chb.channels[-1].y,'g', linestyle='-', label='Post-avulsion final centerline')\n",
    "\n",
    "### Plot initial centerline configuration with elevations \n",
    "for i, val in enumerate(chb.channels[0].x):\n",
    "        if i % 20 == 0:\n",
    "            ax.plot(chb.channels[0].x[i], chb.channels[0].y[i],'k.')\n",
    "            ax.text(chb.channels[0].x[i]+10, chb.channels[0].y[i], round(chb.channels[0].z[i], 2))\n",
    "\n",
    "### Plot final pre-avulsion centerline with elevations\n",
    "for i, val in enumerate(chb.channels[9].x):\n",
    "        if i % 20 == 0 and i > 225:\n",
    "            ax.plot(chb.channels[9].x[i], chb.channels[9].y[i],'k.')\n",
    "            ax.text(chb.channels[9].x[i]+10, chb.channels[9].y[i], round(chb.channels[9].z[i], 2))\n",
    "\n",
    "\n",
    "### Plot final pre-avulsion centerline with elevations\n",
    "for i, val in enumerate(chb.channels[10].x):\n",
    "        if i % 20 == 0 and i > 225:\n",
    "            ax.plot(chb.channels[10].x[i], chb.channels[10].y[i],'g.')\n",
    "            ax.text(chb.channels[10].x[i]+10, chb.channels[10].y[i], round(chb.channels[10].z[i], 2))\n",
    "\n",
    "\n",
    "### Plot final pre-avulsion centerline with elevations\n",
    "for i, val in enumerate(chb.channels[-1].x):\n",
    "        if i % 20 == 0 and i > 225:\n",
    "            ax.plot(chb.channels[-1].x[i], chb.channels[-1].y[i],'g.')\n",
    "            ax.text(chb.channels[-1].x[i]+10, chb.channels[-1].y[i], round(chb.channels[-1].z[i], 2))\n",
    "\n",
    "plt.legend(loc='best')\n",
    "plt.axis('equal')"
   ]
  },
  {
   "cell_type": "markdown",
   "metadata": {},
   "source": [
    "### Restore back to UTM coordinates"
   ]
  },
  {
   "cell_type": "code",
   "execution_count": null,
   "metadata": {},
   "outputs": [],
   "source": [
    "# Initialize min and max values with the first channel\n",
    "min_x = min(chb.channels[0].x)\n",
    "max_x = max(chb.channels[0].x)\n",
    "min_y = min(chb.channels[0].y)\n",
    "max_y = max(chb.channels[0].y)\n",
    "\n",
    "# Loop over the rest of the channels\n",
    "for channel in chb.channels:\n",
    "    min_x = min(min_x, min(channel.x))\n",
    "    max_x = max(max_x, max(channel.x))\n",
    "    min_y = min(min_y, min(channel.y))\n",
    "    max_y = max(max_y, max(channel.y))\n",
    "\n",
    "# Print the results\n",
    "print(\"Absolute min x:\", min_x)\n",
    "print(\"Absolute max x:\", max_x)\n",
    "print(\"Absolute min y:\", min_y)\n",
    "print(\"Absolute max y:\", max_y)"
   ]
  },
  {
   "cell_type": "markdown",
   "metadata": {},
   "source": [
    "### Build post-avulsion 3D fluvial model"
   ]
  },
  {
   "cell_type": "code",
   "execution_count": null,
   "metadata": {},
   "outputs": [],
   "source": [
    "h_mud = 1.0 * np.ones((len(chb.channels),)) # thickness of overbank deposit for each time step\n",
    "dx = 1 # gridcell size in meters\n",
    "diff_scale = 2.0 * W/dx\n",
    "v_coarse = 10.0 # deposition rate of coarse overbank sediment, in m/year (excluding times of no flooding)\n",
    "v_fine = 0.0 # deposition rate of fine overbank sediment, in m/year (excluding times of no flooding)\n",
    "\n",
    "chb_3d_postAvulsion, xmin, xmax, ymin, ymax, dists, zmaps = mp.build_3d_model(chb, 'fluvial', \n",
    "            h_mud=h_mud, h=4.0, w=W, \n",
    "            bth=0.0, dcr=10.0, dx=dx, delta_s=deltas, dt=dt, starttime=chb.cl_times[0], endtime=chb.cl_times[-1],\n",
    "            diff_scale=diff_scale, v_fine=v_fine, v_coarse=v_coarse, \n",
    "            xmin=min_x-100, xmax=max_x+100, ymin=min_y-100, ymax=max_y+100)"
   ]
  },
  {
   "cell_type": "markdown",
   "metadata": {},
   "source": [
    "## Use 'stratigraph' to make 3D visualizations of the stratigraphy"
   ]
  },
  {
   "cell_type": "code",
   "execution_count": null,
   "metadata": {},
   "outputs": [],
   "source": [
    "from mayavi import mlab\n",
    "### Setting for mayavi camera angle (these settings should *not* be changed)\n",
    "azimuth = -151.0187062044975\n",
    "elevation = 64.25212774391869\n",
    "distance = 3043.97657018737\n",
    "focalpoint = np.array([927.38717861, 1166.20012347, -222.73301967])\n",
    "view = mlab.view(azimuth, elevation, distance, focalpoint)"
   ]
  },
  {
   "cell_type": "markdown",
   "metadata": {},
   "source": [
    "### View pre-avulsion channel belt configuration"
   ]
  },
  {
   "cell_type": "code",
   "execution_count": null,
   "metadata": {},
   "outputs": [],
   "source": [
    "# create facies volume (the facies data that comes from meanderpy is a 1D array and we need to expand it to 3D)\n",
    "facies3d = np.zeros((chb_3d_preAvulsion.strat.shape[0], chb_3d_preAvulsion.strat.shape[1], chb_3d_preAvulsion.strat.shape[2]-1))\n",
    "for i in range(len(chb_3d_preAvulsion.facies)):\n",
    "    facies3d[:,:,i] = chb_3d_preAvulsion.facies[i] - 1 # facies codes should start at 0"
   ]
  },
  {
   "cell_type": "code",
   "execution_count": null,
   "metadata": {},
   "outputs": [],
   "source": [
    "### Create Block Diagram with Stratigraph\n",
    "mlab.figure(bgcolor=(1,1,1)) \n",
    "mlab.view(*view)\n",
    "dx = 1\n",
    "ve = 5.0\n",
    "color_mode='facies'\n",
    "bottom=np.min(chb_3d_preAvulsion.strat) - 2\n",
    "\n",
    "sg.create_block_diagram(chb_3d_preAvulsion.strat, dx=dx, ve=ve, color_mode=color_mode, bottom=bottom, opacity=1.0, texture=None,sea_level=None, \n",
    "                        xoffset=0, yoffset=0, scale=1, ci=None, plot_contours=None, topo_min=None, topo_max=None, plot_sides=True, \n",
    "                        plot_water=False, plot_surf=True, surf_cmap='gist_earth', kmeans_colors=None)"
   ]
  },
  {
   "cell_type": "markdown",
   "metadata": {},
   "source": [
    "### View post-avulsion channel belt configuration"
   ]
  },
  {
   "cell_type": "code",
   "execution_count": null,
   "metadata": {},
   "outputs": [],
   "source": [
    "# create facies volume (the facies data that comes from meanderpy is a 1D array and we need to expand it to 3D)\n",
    "facies3d = np.zeros((chb_3d_postAvulsion.strat.shape[0], chb_3d_postAvulsion.strat.shape[1], chb_3d_postAvulsion.strat.shape[2]-1))\n",
    "for i in range(len(chb_3d_postAvulsion.facies)):\n",
    "    facies3d[:,:,i] = chb_3d_postAvulsion.facies[i] - 1 # facies codes should start at 0"
   ]
  },
  {
   "cell_type": "code",
   "execution_count": null,
   "metadata": {},
   "outputs": [],
   "source": [
    "### Create Block Diagram with Stratigraph\n",
    "mlab.figure(bgcolor=(1,1,1)) \n",
    "mlab.view(*view)\n",
    "dx = 1\n",
    "ve = 5.0\n",
    "color_mode='facies'\n",
    "bottom=np.min(chb_3d_postAvulsion.strat) - 2\n",
    "\n",
    "sg.create_block_diagram(chb_3d_postAvulsion.strat, dx=dx, ve=ve, color_mode=color_mode, bottom=bottom, opacity=1.0, texture=None,sea_level=None, \n",
    "                        xoffset=0, yoffset=0, scale=1, ci=None, plot_contours=None, topo_min=None, topo_max=None, plot_sides=True, \n",
    "                        plot_water=False, plot_surf=True, surf_cmap='gist_earth', kmeans_colors=None)"
   ]
  },
  {
   "cell_type": "markdown",
   "metadata": {},
   "source": [
    "### Define cookies\n",
    "Use the \"cookies\" defined by their xcoords and ycoords below to get the transects shown in manuscript figure 4"
   ]
  },
  {
   "cell_type": "code",
   "execution_count": null,
   "metadata": {},
   "outputs": [],
   "source": [
    "### Define manually\n",
    "#xcoords, ycoords = sg.select_random_section(chb_3d_postAvulsion.strat) # define x and y coordinates for random section"
   ]
  },
  {
   "cell_type": "code",
   "execution_count": null,
   "metadata": {},
   "outputs": [],
   "source": [
    "### Pre avulsion cookie\n",
    "xcoords = [959.7740262381777,\n",
    " 864.727143292993,\n",
    " 787.9585070680363,\n",
    " 791.6141564120818,\n",
    " 960.7740262381777]\n",
    "ycoords = [976.5738330112887,\n",
    " 801.1026644971017,\n",
    " 808.4139631851929,\n",
    " 1024.0972744838812,\n",
    " 980.5738330112887]"
   ]
  },
  {
   "cell_type": "code",
   "execution_count": null,
   "metadata": {},
   "outputs": [],
   "source": [
    "### Create random cookie through pre-avulsion strat\n",
    "colors = [[0.9,0.9,0],[0.5,0.25,0]] # sand and mud facies (~ point bar and levee)\n",
    "mlab.figure(bgcolor=(1,1,1)) \n",
    "sg.create_random_cookie(chb_3d_postAvulsion.strat,facies=facies3d,topo=chb_3d_postAvulsion.topo,scale=1,ve=3,color_mode='facies',colors=colors,\n",
    "                        colormap='gist_earth',x1=xcoords[:-1],x2=xcoords[1:],y1=ycoords[:-1],y2=ycoords[1:],\n",
    "                        dx=1.0,bottom=bottom,opacity=1.0)"
   ]
  },
  {
   "cell_type": "code",
   "execution_count": null,
   "metadata": {},
   "outputs": [],
   "source": [
    "### Post avulsion cookie\n",
    "xcoords = [396.80402725516126,\n",
    " 327.3466897182957,\n",
    " 484.53961151225474,\n",
    " 543.0300010169838,\n",
    " 395.80402725516126,]\n",
    "\n",
    "ycoords = [1148.3893521814302,\n",
    " 1071.6207159564733,\n",
    " 932.7060408827418,\n",
    " 991.196430387471,\n",
    " 1151.0450015254758]"
   ]
  },
  {
   "cell_type": "code",
   "execution_count": null,
   "metadata": {},
   "outputs": [],
   "source": [
    "### Create random cookie through post-avulsion strat\n",
    "colors = [[0.9,0.9,0],[0.5,0.25,0]] # sand and mud facies (~ point bar and levee)\n",
    "mlab.figure(bgcolor=(1,1,1)) \n",
    "sg.create_random_cookie(chb_3d_postAvulsion.strat,facies=facies3d,topo=chb_3d_postAvulsion.topo,scale=1,ve=3,color_mode='facies',colors=colors,\n",
    "                        colormap='gist_earth',x1=xcoords[:-1],x2=xcoords[1:],y1=ycoords[:-1],y2=ycoords[1:],\n",
    "                        dx=1.0,bottom=bottom,opacity=1.0)"
   ]
  }
 ],
 "metadata": {
  "kernelspec": {
   "display_name": "mayavi",
   "language": "python",
   "name": "python3"
  },
  "language_info": {
   "codemirror_mode": {
    "name": "ipython",
    "version": 3
   },
   "file_extension": ".py",
   "mimetype": "text/x-python",
   "name": "python",
   "nbconvert_exporter": "python",
   "pygments_lexer": "ipython3",
   "version": "3.11.5"
  }
 },
 "nbformat": 4,
 "nbformat_minor": 2
}
