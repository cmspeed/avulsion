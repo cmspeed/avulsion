{
 "cells": [
  {
   "cell_type": "markdown",
   "metadata": {},
   "source": [
    "## Cross-set thickness and superelevation analysis\n",
    "This notebook reads in measured cross-set thickness data and computes a distribution of dune heights and flow depths using empirical relationships of Leclair and Bridge (2001) and Bradley and Venditti (2017).\n",
    "Using measurements of T1 and T2 channel base, we compute a distribution of possible superelevation values for the estimated depths."
   ]
  },
  {
   "cell_type": "markdown",
   "metadata": {},
   "source": [
    "### Install necessary libraries\n",
    "Uncomment the next cell if library installation is needed."
   ]
  },
  {
   "cell_type": "code",
   "execution_count": 2,
   "metadata": {},
   "outputs": [],
   "source": [
    "### Install necessary libraries\n",
    "# pip install numpy pandas matplotlib seaborn"
   ]
  },
  {
   "cell_type": "markdown",
   "metadata": {},
   "source": [
    "### Library imports"
   ]
  },
  {
   "cell_type": "code",
   "execution_count": 3,
   "metadata": {},
   "outputs": [],
   "source": [
    "import numpy as np\n",
    "import pandas as pd\n",
    "import matplotlib.pyplot as plt\n",
    "import seaborn as sns\n",
    "\n",
    "# Ensure that text is saved as editable text objects\n",
    "plt.rcParams['font.size'] = 7 # Set default font size\n",
    "plt.rcParams['pdf.fonttype'] = 42  # Embed fonts as TrueType\n",
    "plt.rcParams['ps.fonttype'] = 42   # Embed fonts as TrueType\n",
    "plt.rcParams['font.family'] = 'Helvetica'"
   ]
  },
  {
   "cell_type": "markdown",
   "metadata": {},
   "source": [
    "### Read in cross-set thickness and paleocurrent data"
   ]
  },
  {
   "cell_type": "code",
   "execution_count": 4,
   "metadata": {},
   "outputs": [
    {
     "data": {
      "text/html": [
       "<div>\n",
       "<style scoped>\n",
       "    .dataframe tbody tr th:only-of-type {\n",
       "        vertical-align: middle;\n",
       "    }\n",
       "\n",
       "    .dataframe tbody tr th {\n",
       "        vertical-align: top;\n",
       "    }\n",
       "\n",
       "    .dataframe thead th {\n",
       "        text-align: right;\n",
       "    }\n",
       "</style>\n",
       "<table border=\"1\" class=\"dataframe\">\n",
       "  <thead>\n",
       "    <tr style=\"text-align: right;\">\n",
       "      <th></th>\n",
       "      <th>depth_m</th>\n",
       "      <th>xset_thickness_m</th>\n",
       "      <th>grainsize</th>\n",
       "      <th>paleocurrent</th>\n",
       "      <th>depth_m.1</th>\n",
       "      <th>xset_thickness_m.1</th>\n",
       "      <th>grainsize.1</th>\n",
       "      <th>paleocurrent.1</th>\n",
       "      <th>depth_m.2</th>\n",
       "      <th>xset_thickness_m.2</th>\n",
       "      <th>...</th>\n",
       "      <th>grainsize.6</th>\n",
       "      <th>paleocurrent.7</th>\n",
       "      <th>depth_m.8</th>\n",
       "      <th>xset_thickness_m.8</th>\n",
       "      <th>grainsize.7</th>\n",
       "      <th>paleocurrent.8</th>\n",
       "      <th>depth_m.9</th>\n",
       "      <th>xset_thickness_m.9</th>\n",
       "      <th>grainsize.8</th>\n",
       "      <th>paleocurrent.9</th>\n",
       "    </tr>\n",
       "  </thead>\n",
       "  <tbody>\n",
       "    <tr>\n",
       "      <th>0</th>\n",
       "      <td>0.0</td>\n",
       "      <td>NaN</td>\n",
       "      <td>md</td>\n",
       "      <td>NaN</td>\n",
       "      <td>0.0</td>\n",
       "      <td>NaN</td>\n",
       "      <td>NaN</td>\n",
       "      <td>NaN</td>\n",
       "      <td>0.0</td>\n",
       "      <td>0.4</td>\n",
       "      <td>...</td>\n",
       "      <td>m</td>\n",
       "      <td>NaN</td>\n",
       "      <td>0.0</td>\n",
       "      <td>NaN</td>\n",
       "      <td>m</td>\n",
       "      <td>NaN</td>\n",
       "      <td>0.0</td>\n",
       "      <td>NaN</td>\n",
       "      <td>slt</td>\n",
       "      <td>NaN</td>\n",
       "    </tr>\n",
       "    <tr>\n",
       "      <th>1</th>\n",
       "      <td>1.5</td>\n",
       "      <td>NaN</td>\n",
       "      <td>md</td>\n",
       "      <td>NaN</td>\n",
       "      <td>0.8</td>\n",
       "      <td>NaN</td>\n",
       "      <td>NaN</td>\n",
       "      <td>NaN</td>\n",
       "      <td>0.4</td>\n",
       "      <td>0.4</td>\n",
       "      <td>...</td>\n",
       "      <td>obsc</td>\n",
       "      <td>NaN</td>\n",
       "      <td>1.1</td>\n",
       "      <td>NaN</td>\n",
       "      <td>md</td>\n",
       "      <td>NaN</td>\n",
       "      <td>1.0</td>\n",
       "      <td>NaN</td>\n",
       "      <td>ped</td>\n",
       "      <td>NaN</td>\n",
       "    </tr>\n",
       "    <tr>\n",
       "      <th>2</th>\n",
       "      <td>2.1</td>\n",
       "      <td>NaN</td>\n",
       "      <td>vfs</td>\n",
       "      <td>NaN</td>\n",
       "      <td>1.4</td>\n",
       "      <td>NaN</td>\n",
       "      <td>NaN</td>\n",
       "      <td>NaN</td>\n",
       "      <td>0.6</td>\n",
       "      <td>NaN</td>\n",
       "      <td>...</td>\n",
       "      <td>slt</td>\n",
       "      <td>NaN</td>\n",
       "      <td>2.0</td>\n",
       "      <td>NaN</td>\n",
       "      <td>vf</td>\n",
       "      <td>NaN</td>\n",
       "      <td>2.2</td>\n",
       "      <td>NaN</td>\n",
       "      <td>slt</td>\n",
       "      <td>NaN</td>\n",
       "    </tr>\n",
       "    <tr>\n",
       "      <th>3</th>\n",
       "      <td>2.8</td>\n",
       "      <td>NaN</td>\n",
       "      <td>md</td>\n",
       "      <td>NaN</td>\n",
       "      <td>2.4</td>\n",
       "      <td>NaN</td>\n",
       "      <td>NaN</td>\n",
       "      <td>NaN</td>\n",
       "      <td>1.0</td>\n",
       "      <td>0.6</td>\n",
       "      <td>...</td>\n",
       "      <td>f</td>\n",
       "      <td>NaN</td>\n",
       "      <td>2.8</td>\n",
       "      <td>NaN</td>\n",
       "      <td>md</td>\n",
       "      <td>NaN</td>\n",
       "      <td>4.5</td>\n",
       "      <td>NaN</td>\n",
       "      <td>ped</td>\n",
       "      <td>NaN</td>\n",
       "    </tr>\n",
       "    <tr>\n",
       "      <th>4</th>\n",
       "      <td>3.1</td>\n",
       "      <td>NaN</td>\n",
       "      <td>pedc</td>\n",
       "      <td>NaN</td>\n",
       "      <td>2.7</td>\n",
       "      <td>NaN</td>\n",
       "      <td>NaN</td>\n",
       "      <td>NaN</td>\n",
       "      <td>1.6</td>\n",
       "      <td>0.5</td>\n",
       "      <td>...</td>\n",
       "      <td>mL</td>\n",
       "      <td>NaN</td>\n",
       "      <td>4.0</td>\n",
       "      <td>NaN</td>\n",
       "      <td>obs</td>\n",
       "      <td>NaN</td>\n",
       "      <td>5.2</td>\n",
       "      <td>0.2</td>\n",
       "      <td>m</td>\n",
       "      <td>NaN</td>\n",
       "    </tr>\n",
       "  </tbody>\n",
       "</table>\n",
       "<p>5 rows × 40 columns</p>\n",
       "</div>"
      ],
      "text/plain": [
       "   depth_m  xset_thickness_m grainsize paleocurrent  depth_m.1  \\\n",
       "0      0.0               NaN        md          NaN        0.0   \n",
       "1      1.5               NaN        md          NaN        0.8   \n",
       "2      2.1               NaN       vfs          NaN        1.4   \n",
       "3      2.8               NaN        md          NaN        2.4   \n",
       "4      3.1               NaN      pedc          NaN        2.7   \n",
       "\n",
       "   xset_thickness_m.1 grainsize.1 paleocurrent.1  depth_m.2  \\\n",
       "0                 NaN         NaN            NaN        0.0   \n",
       "1                 NaN         NaN            NaN        0.4   \n",
       "2                 NaN         NaN            NaN        0.6   \n",
       "3                 NaN         NaN            NaN        1.0   \n",
       "4                 NaN         NaN            NaN        1.6   \n",
       "\n",
       "   xset_thickness_m.2  ... grainsize.6 paleocurrent.7  depth_m.8  \\\n",
       "0                 0.4  ...           m            NaN        0.0   \n",
       "1                 0.4  ...        obsc            NaN        1.1   \n",
       "2                 NaN  ...         slt            NaN        2.0   \n",
       "3                 0.6  ...           f            NaN        2.8   \n",
       "4                 0.5  ...          mL            NaN        4.0   \n",
       "\n",
       "   xset_thickness_m.8 grainsize.7 paleocurrent.8  depth_m.9  \\\n",
       "0                 NaN           m            NaN        0.0   \n",
       "1                 NaN          md            NaN        1.0   \n",
       "2                 NaN          vf            NaN        2.2   \n",
       "3                 NaN          md            NaN        4.5   \n",
       "4                 NaN         obs            NaN        5.2   \n",
       "\n",
       "   xset_thickness_m.9 grainsize.8 paleocurrent.9  \n",
       "0                 NaN         slt            NaN  \n",
       "1                 NaN         ped            NaN  \n",
       "2                 NaN         slt            NaN  \n",
       "3                 NaN         ped            NaN  \n",
       "4                 0.2           m            NaN  \n",
       "\n",
       "[5 rows x 40 columns]"
      ]
     },
     "execution_count": 4,
     "metadata": {},
     "output_type": "execute_result"
    }
   ],
   "source": [
    "## Read in paleocurrent data\n",
    "data = pd.read_excel('../field_data/measurements/bed_thicknesses_and_xsection_paleocurrents.xlsx', sheet_name='set_thicknesses_&_paleocurrents', skiprows=1)\n",
    "data.head()"
   ]
  },
  {
   "cell_type": "markdown",
   "metadata": {},
   "source": [
    "### Create an array of cross-set thicknesses"
   ]
  },
  {
   "cell_type": "code",
   "execution_count": 5,
   "metadata": {},
   "outputs": [
    {
     "name": "stdout",
     "output_type": "stream",
     "text": [
      "total cross-set thickness measurements: 222\n"
     ]
    }
   ],
   "source": [
    "thickness_columns = [col for col in data.columns if col.startswith('xset_thickness_m')]\n",
    "thickness_array = np.array([])\n",
    "for col in thickness_columns:\n",
    "    non_nan_values = data[col].dropna().values.astype(float)\n",
    "    thickness_array = np.concatenate([thickness_array, non_nan_values])\n",
    "print('total cross-set thickness measurements:', len(thickness_array))"
   ]
  },
  {
   "cell_type": "markdown",
   "metadata": {},
   "source": [
    "### Compute a distribution of possible dune heights and flow depths\n",
    "Below, we apply the (1) cross-set thickness to dune height relationship of Leclair and Bridge (2001) and (2) dune height to flow depth relationship in shallow rivers of Bradley and Venditti (2017). This results in a distribution of dune height and flow depths base of the 222 cross-set thickness measurements."
   ]
  },
  {
   "cell_type": "code",
   "execution_count": 6,
   "metadata": {},
   "outputs": [
    {
     "name": "stdout",
     "output_type": "stream",
     "text": [
      "---------------------------\n",
      "DUNE HEIGHT\n",
      "minimum dune height: 0.11 m\n",
      "maximum dune height: 3.60 m\n",
      "median dune height: 0.58 m\n",
      "mean dune height: 0.75\n",
      "standard deviation of mean dune height: 0.67 m\n",
      "---------------------------\n",
      "DEPTH\n",
      "minimum depth: 0.31 m\n",
      "maximum depth: 17.64 m\n",
      "median depth: 2.02 m\n",
      "mean depth: 2.79\n",
      "standard deviation of mean depth: 2.66 m\n"
     ]
    }
   ],
   "source": [
    "d_vals = []\n",
    "H_vals = []\n",
    "for t in thickness_array:\n",
    "        h_vals = [] \n",
    "        h_low = 2.2*t\n",
    "        h_mean = 2.9*t\n",
    "        h_high = 3.6*t\n",
    "        h_vals.extend([h_low,h_mean,h_high])\n",
    "        H_vals.append(h_vals)\n",
    "        for h_val in h_vals:\n",
    "            d_low = 2.8*h_val\n",
    "            d_mean = 3.5*h_val\n",
    "            d_high = 4.9*h_val\n",
    "            d_vals.extend([d_low,d_mean,d_high])\n",
    "H_vals_array = np.asarray(H_vals).flatten()\n",
    "d_vals_array = np.asarray(d_vals)\n",
    "\n",
    "print(\"---------------------------\")\n",
    "print(\"DUNE HEIGHT\")\n",
    "print(f\"minimum dune height: {np.min(H_vals_array):.2f} m\")\n",
    "print(f\"maximum dune height: {np.max(H_vals_array):.2f} m\")\n",
    "print(f\"median dune height: {np.median(H_vals_array):.2f} m\")\n",
    "print(f\"mean dune height: {np.mean(H_vals_array):.2f}\")\n",
    "print(f\"standard deviation of mean dune height: {np.std(H_vals_array):.2f} m\")\n",
    "\n",
    "print(\"---------------------------\")\n",
    "print(\"DEPTH\")\n",
    "print(f\"minimum depth: {np.min(d_vals_array):.2f} m\")\n",
    "print(f\"maximum depth: {np.max(d_vals_array):.2f} m\")\n",
    "print(f\"median depth: {np.median(d_vals_array):.2f} m\")\n",
    "print(f\"mean depth: {np.mean(d_vals_array):.2f}\")\n",
    "print(f\"standard deviation of mean depth: {np.std(d_vals_array):.2f} m\")"
   ]
  },
  {
   "cell_type": "markdown",
   "metadata": {},
   "source": [
    "### Compute the 50% and 90% confidence intervals for dune height and channel depth"
   ]
  },
  {
   "cell_type": "code",
   "execution_count": 7,
   "metadata": {},
   "outputs": [],
   "source": [
    "# Calculate 50% and 90% confidence intervals for depth\n",
    "confidence_interval_50_DH = np.percentile(H_vals_array, [25, 75])\n",
    "confidence_interval_90_DH = np.percentile(H_vals_array, [5, 95])"
   ]
  },
  {
   "cell_type": "code",
   "execution_count": 8,
   "metadata": {},
   "outputs": [],
   "source": [
    "# Calculate 50% and 90% confidence intervals for depth\n",
    "confidence_interval_50_depth = np.percentile(d_vals_array, [25, 75])\n",
    "confidence_interval_90_depth = np.percentile(d_vals_array, [5, 95])"
   ]
  },
  {
   "cell_type": "markdown",
   "metadata": {},
   "source": [
    "### Plot the distribution of dune height and corresponding bankfull depths"
   ]
  },
  {
   "cell_type": "code",
   "execution_count": 9,
   "metadata": {},
   "outputs": [
    {
     "name": "stderr",
     "output_type": "stream",
     "text": [
      "1 extra bytes in post.stringData array\n",
      "'created' timestamp seems very low; regarding as unix timestamp\n",
      "Zapf NOT subset; don't know how to subset; dropped\n",
      "feat NOT subset; don't know how to subset; dropped\n",
      "morx NOT subset; don't know how to subset; dropped\n"
     ]
    },
    {
     "data": {
      "image/png": "[encoded data removed]",
      "text/plain": [
       "<Figure size 800x300 with 2 Axes>"
      ]
     },
     "metadata": {},
     "output_type": "display_data"
    }
   ],
   "source": [
    "fig, ax = plt.subplots(1, 2, figsize=(8,3))\n",
    "sns.histplot(H_vals_array,bins=10, kde=False, color=(0.5, 0.5, 0.5), ax  = ax[0],linewidth=1)\n",
    "ax[0].axvline(confidence_interval_50_DH[0], color='black', linestyle='dashed', linewidth=1, label='50% CI')\n",
    "ax[0].axvline(confidence_interval_50_DH[1], color='black', linestyle='dashed', linewidth=1)\n",
    "ax[0].axvline(confidence_interval_90_DH[0], color='grey', linestyle='dotted', linewidth=1, label='90% CI')\n",
    "ax[0].axvline(confidence_interval_90_DH[1], color='grey', linestyle='dotted', linewidth=1)\n",
    "ax[0].axvline(np.percentile(H_vals_array, 50), color='darkorange', linestyle='solid', label=f'p50 = {np.percentile(H_vals_array, 50):.2f} m')\n",
    "ax[0].set_xlabel('Dune Height (m)')\n",
    "ax[0].set_ylabel('Frequency')\n",
    "#ax[0].set_xlim([0,15])\n",
    "#ax[0].set_xticks([0, 5, 10, 15])\n",
    "\n",
    "sns.histplot(d_vals_array, bins=10, color = [0.8, 0.8,0.8], ax = ax[1])\n",
    "ax[1].axvline(confidence_interval_50_depth[0], color='black', linestyle='dashed', linewidth=1, label='50% CI')\n",
    "ax[1].axvline(confidence_interval_50_depth[1], color='black', linestyle='dashed', linewidth=1)\n",
    "ax[1].axvline(confidence_interval_90_depth[0], color='grey', linestyle='dotted', linewidth=1, label='90% CI')\n",
    "ax[1].axvline(confidence_interval_90_depth[1], color='grey', linestyle='dotted', linewidth=1)\n",
    "ax[1].axvline(np.percentile(d_vals_array, 50), color='darkorange', linestyle='solid', label=f'p50 = {np.percentile(d_vals_array, 50):.2f} m')\n",
    "\n",
    "#ax[1].set_xticks([-2, -1, 0, 1, 2])\n",
    "ax[1].set_xlabel('Bankfull Depth (m)')\n",
    "ax[1].set_ylabel('')\n",
    "\n",
    "ax[0].legend(fontsize='medium')\n",
    "ax[1].legend(fontsize='medium')\n",
    "\n",
    "# Adjust the spacing between subplots\n",
    "plt.subplots_adjust(left=0.1, right=0.9, top=0.9, bottom=0.1, wspace=0.3)\n",
    "\n",
    "for axis in ax:\n",
    "    # Adjust the padding of the ticks\n",
    "    axis.tick_params(axis='x', pad=5)\n",
    "    axis.tick_params(axis='y', pad=5)\n",
    "\n",
    "plt.tight_layout()\n",
    "\n",
    "plt.savefig('dune_height_and_depth.pdf', bbox_inches='tight')\n"
   ]
  },
  {
   "cell_type": "markdown",
   "metadata": {},
   "source": [
    "## Superelevation analysis\n",
    "We use the distribution of computed depths and offset between T1 and T2 channel depths (corrected for tectonic tilt) to estimate a liklihood of superelevation."
   ]
  },
  {
   "cell_type": "markdown",
   "metadata": {},
   "source": [
    "### Read in channel base measurements\n",
    "This dataframe contains two elevations of the T1 channel base and one mean elevation of of the floodplain below T2, which we interpret as the T1 floodplain surface.\n",
    "The elevations in 'measured_m' are the structurally uncorrected values. The values in 'bestfit_m' are the values on the bestfit plane derived from the lidar dataset. 'untilted' are the structurally corrected values"
   ]
  },
  {
   "cell_type": "code",
   "execution_count": 10,
   "metadata": {},
   "outputs": [
    {
     "data": {
      "text/html": [
       "<div>\n",
       "<style scoped>\n",
       "    .dataframe tbody tr th:only-of-type {\n",
       "        vertical-align: middle;\n",
       "    }\n",
       "\n",
       "    .dataframe tbody tr th {\n",
       "        vertical-align: top;\n",
       "    }\n",
       "\n",
       "    .dataframe thead th {\n",
       "        text-align: right;\n",
       "    }\n",
       "</style>\n",
       "<table border=\"1\" class=\"dataframe\">\n",
       "  <thead>\n",
       "    <tr style=\"text-align: right;\">\n",
       "      <th></th>\n",
       "      <th>Name</th>\n",
       "      <th>measured_m</th>\n",
       "      <th>bestfit_m</th>\n",
       "      <th>surface</th>\n",
       "      <th>untilted</th>\n",
       "    </tr>\n",
       "  </thead>\n",
       "  <tbody>\n",
       "    <tr>\n",
       "      <th>0</th>\n",
       "      <td>CB12</td>\n",
       "      <td>1347.55</td>\n",
       "      <td>1294.97</td>\n",
       "      <td>T1_base</td>\n",
       "      <td>52.58</td>\n",
       "    </tr>\n",
       "    <tr>\n",
       "      <th>1</th>\n",
       "      <td>CB11</td>\n",
       "      <td>1349.12</td>\n",
       "      <td>1296.51</td>\n",
       "      <td>T1_base</td>\n",
       "      <td>52.61</td>\n",
       "    </tr>\n",
       "    <tr>\n",
       "      <th>2</th>\n",
       "      <td>t1_floodplain</td>\n",
       "      <td>1344.97</td>\n",
       "      <td>1291.70</td>\n",
       "      <td>T1_floodplain</td>\n",
       "      <td>53.27</td>\n",
       "    </tr>\n",
       "  </tbody>\n",
       "</table>\n",
       "</div>"
      ],
      "text/plain": [
       "            Name  measured_m  bestfit_m        surface  untilted\n",
       "0           CB12     1347.55    1294.97        T1_base     52.58\n",
       "1           CB11     1349.12    1296.51        T1_base     52.61\n",
       "2  t1_floodplain     1344.97    1291.70  T1_floodplain     53.27"
      ]
     },
     "execution_count": 10,
     "metadata": {},
     "output_type": "execute_result"
    }
   ],
   "source": [
    "df = pd.read_excel('../field_data/measurements/chb_and_floodplain_elevations_for_SE.xlsx', sheet_name='means')\n",
    "df['untilted'] = df['measured_m'] - df['bestfit_m']\n",
    "df.head()"
   ]
  },
  {
   "cell_type": "markdown",
   "metadata": {},
   "source": [
    "### Compute the structurally corrected offset between the pre-avulsion (T1) channel based and the contemporaneous floodplain "
   ]
  },
  {
   "cell_type": "code",
   "execution_count": 16,
   "metadata": {},
   "outputs": [
    {
     "name": "stdout",
     "output_type": "stream",
     "text": [
      "the total vertical offset is 3.37 m.\n",
      "the vertical offset due to tectonics is 4.05 m.\n",
      "The pre-avulsion channel base was -0.68 m over the floodplain, prior to avulsion.\n"
     ]
    }
   ],
   "source": [
    "### Find mean values for T1 channel base and T1 floodplain\n",
    "chb_t1 = np.mean(df.loc[df['surface'] == 'T1_base', 'measured_m'].values)\n",
    "chb_t2 = np.mean(df.loc[df['surface'] == 'T1_floodplain', 'measured_m'].values)\n",
    "total_offset = chb_t1-chb_t2\n",
    "print(f'the total vertical offset is {total_offset:.2f} m.')\n",
    "\n",
    "### Find mean values of bestfit plane at same points\n",
    "chb_t1_bestfit = np.mean(df.loc[df['surface'] == 'T1_base', 'bestfit_m'].values)\n",
    "chb_t2_bestfit = np.mean(df.loc[df['surface'] == 'T1_floodplain', 'bestfit_m'].values)\n",
    "offset_due_2_tectonics = chb_t1_bestfit-chb_t2_bestfit\n",
    "print(f'the vertical offset due to tectonics is {offset_due_2_tectonics:.2f} m.')\n",
    "\n",
    "### Compute offset of floodplain and pre-avulsion channel base\n",
    "mean_height_of_chb_over_floodplain = total_offset-offset_due_2_tectonics \n",
    "print(f'The pre-avulsion channel base was {mean_height_of_chb_over_floodplain:.2f} m over the floodplain, prior to avulsion.')\n"
   ]
  },
  {
   "cell_type": "markdown",
   "metadata": {},
   "source": [
    "Thus, we see that the channel base was 0.68 m below the floodplain."
   ]
  },
  {
   "cell_type": "markdown",
   "metadata": {},
   "source": [
    "### Compute superelevation  for this distribution of flows\n",
    "Now we can compute a distribution of superelevation values corresponding to the depths estimated from cross-set thicknesses.\n",
    "SE = WSE/D (SE = superlevation; WSE = water surface elevation; D = bankfull flow depth)"
   ]
  },
  {
   "cell_type": "code",
   "execution_count": 12,
   "metadata": {},
   "outputs": [],
   "source": [
    "### Think this is actually what I intended to do\n",
    "SE = []\n",
    "for d_val in d_vals_array:\n",
    "    WSE = mean_height_of_chb_over_floodplain + d_val\n",
    "    se = WSE/d_val\n",
    "    SE.append(se)\n",
    "\n",
    "SE_array = np.asarray(SE)"
   ]
  },
  {
   "cell_type": "code",
   "execution_count": 14,
   "metadata": {},
   "outputs": [
    {
     "name": "stdout",
     "output_type": "stream",
     "text": [
      "median SE is: 0.67\n",
      "50% CI is: [0.45, 0.79]\n",
      "90% CI is: [-0.10, 0.92]\n"
     ]
    }
   ],
   "source": [
    "# Calculate 50% and 90% confidence intervals for SE \n",
    "confidence_interval_SE_50 = np.percentile(SE_array, [25, 75])\n",
    "confidence_interval_SE_90 = np.percentile(SE_array, [5, 95])\n",
    "\n",
    "# Format and print the confidence intervals with two decimal places\n",
    "print(f'median SE is: {np.percentile(SE_array, 50):.2f}')\n",
    "print(f'50% CI is: [{confidence_interval_SE_50[0]:.2f}, {confidence_interval_SE_50[1]:.2f}]')\n",
    "print(f'90% CI is: [{confidence_interval_SE_90[0]:.2f}, {confidence_interval_SE_90[1]:.2f}]')"
   ]
  },
  {
   "cell_type": "markdown",
   "metadata": {},
   "source": [
    "### Plot the superelevation"
   ]
  },
  {
   "cell_type": "code",
   "execution_count": 17,
   "metadata": {},
   "outputs": [
    {
     "data": {
      "image/png": "[encoded data removed]",
      "text/plain": [
       "<Figure size 700x400 with 2 Axes>"
      ]
     },
     "metadata": {},
     "output_type": "display_data"
    }
   ],
   "source": [
    "fig, ax = plt.subplots(1, 2, figsize=(7,4))\n",
    "sns.histplot(d_vals_array,bins=10, kde=False, color=(0.5, 0.5, 0.5), ax  = ax[0],linewidth=1)\n",
    "ax[0].axvline(confidence_interval_50_depth[0], color='black', linestyle='dashed', linewidth=1, label='50% CI')\n",
    "ax[0].axvline(confidence_interval_50_depth[1], color='black', linestyle='dashed', linewidth=1)\n",
    "ax[0].axvline(confidence_interval_90_depth[0], color='grey', linestyle='dotted', linewidth=1, label='90% CI')\n",
    "ax[0].axvline(confidence_interval_90_depth[1], color='grey', linestyle='dotted', linewidth=1)\n",
    "ax[0].axvline(np.percentile(d_vals_array, 50), color='darkorange', linestyle='solid', label=f'p50 = {np.percentile(d_vals_array, 50):.2f} m')\n",
    "ax[0].set_xlabel('Channel Depth (m)')\n",
    "ax[0].set_ylabel('Frequency')\n",
    "ax[0].set_xlim([0,15])\n",
    "ax[0].set_xticks([0, 5, 10, 15])\n",
    "\n",
    "sns.histplot(SE_array, bins=10, color = [0.8, 0.8,0.8], ax = ax[1])\n",
    "ax[1].axvline(confidence_interval_SE_50[0], color='black', linestyle='dashed', linewidth=1, label='50% CI')\n",
    "ax[1].axvline(confidence_interval_SE_50[1], color='black', linestyle='dashed', linewidth=1)\n",
    "ax[1].axvline(confidence_interval_SE_90[0], color='grey', linestyle='dotted', linewidth=1, label='90% CI')\n",
    "ax[1].axvline(confidence_interval_SE_90[1], color='grey', linestyle='dotted', linewidth=1)\n",
    "ax[1].axvline(np.percentile(SE_array, 50), color='darkorange', linestyle='solid', label=f'p50 = {np.percentile(SE_array, 50):.2f}')\n",
    "\n",
    "#ax[1].set_xticks([-2, -1, 0, 1, 2])\n",
    "ax[1].set_xlabel('Superelevation')\n",
    "ax[1].set_ylabel('')\n",
    "\n",
    "ax[0].legend(fontsize='medium')\n",
    "ax[1].legend(fontsize='medium')\n",
    "\n",
    "# Adjust the spacing between subplots\n",
    "plt.subplots_adjust(left=0.1, right=0.9, top=0.9, bottom=0.1, wspace=0.3)\n",
    "\n",
    "for axis in ax:\n",
    "    # Adjust the padding of the ticks\n",
    "    axis.tick_params(axis='x', pad=5)\n",
    "    axis.tick_params(axis='y', pad=5)\n",
    "\n",
    "plt.tight_layout()\n"
   ]
  },
  {
   "cell_type": "markdown",
   "metadata": {},
   "source": [
    "### Note: the below makes the same plot as above, but smaller with white axes labels for use in the paper figure"
   ]
  },
  {
   "cell_type": "code",
   "execution_count": 18,
   "metadata": {},
   "outputs": [
    {
     "data": {
      "image/png": "[encoded data removed]",
      "text/plain": [
       "<Figure size 300x150 with 2 Axes>"
      ]
     },
     "metadata": {},
     "output_type": "display_data"
    }
   ],
   "source": [
    "fig, ax = plt.subplots(1, 2, figsize=(3,1.5))\n",
    "sns.histplot(d_vals_array,bins=10, kde=False, color=(0.5, 0.5, 0.5), ax  = ax[0],linewidth=1)\n",
    "ax[0].axvline(confidence_interval_50_depth[0], color='black', linestyle='dashed', linewidth=1, label='50% CI')\n",
    "ax[0].axvline(confidence_interval_50_depth[1], color='black', linestyle='dashed', linewidth=1)\n",
    "ax[0].axvline(confidence_interval_90_depth[0], color='grey', linestyle='dotted', linewidth=1, label='90% CI')\n",
    "ax[0].axvline(confidence_interval_90_depth[1], color='grey', linestyle='dotted', linewidth=1)\n",
    "ax[0].axvline(np.percentile(d_vals_array, 50), color='darkorange', linestyle='solid', label=f'p50 = {np.percentile(d_vals_array, 50):.2f} m')\n",
    "ax[0].set_xlabel('Channel Depth (m)', color='white')\n",
    "ax[0].set_ylabel('Frequency', color='white')\n",
    "ax[0].set_xlim([0,15])\n",
    "ax[0].set_xticks([0, 5, 10, 15])\n",
    "\n",
    "sns.histplot(SE_array, bins=10, color = [0.8, 0.8,0.8], ax = ax[1])\n",
    "ax[1].axvline(confidence_interval_SE_50[0], color='black', linestyle='dashed', linewidth=1, label='50% CI')\n",
    "ax[1].axvline(confidence_interval_SE_50[1], color='black', linestyle='dashed', linewidth=1)\n",
    "ax[1].axvline(confidence_interval_SE_90[0], color='grey', linestyle='dotted', linewidth=1, label='90% CI')\n",
    "ax[1].axvline(confidence_interval_SE_90[1], color='grey', linestyle='dotted', linewidth=1)\n",
    "ax[1].axvline(np.percentile(SE_array, 50), color='darkorange', linestyle='solid', label=f'p50 = {np.percentile(SE_array, 50):.2f} m')\n",
    "\n",
    "#ax[1].set_xticks([-2, -1, 0, 1, 2])\n",
    "ax[1].set_xlabel('Superelevation', color='white')\n",
    "ax[1].set_ylabel('')\n",
    "\n",
    "ax[0].legend(fontsize='small')\n",
    "ax[1].legend(fontsize='small')\n",
    "\n",
    "# Adjust the spacing between subplots\n",
    "plt.subplots_adjust(left=0.1, right=0.9, top=0.9, bottom=0.1, wspace=0.3)\n",
    "\n",
    "for axis in ax:\n",
    "    # Adjust the padding of the ticks\n",
    "    axis.tick_params(axis='x', pad=5)\n",
    "    axis.tick_params(axis='y', pad=5)\n",
    "    # Set the color of the axes and ticks to white\n",
    "    axis.tick_params(axis='x', colors='white')\n",
    "    axis.tick_params(axis='y', colors='white')\n"
   ]
  }
 ],
 "metadata": {
  "kernelspec": {
   "display_name": "meandergraph",
   "language": "python",
   "name": "python3"
  },
  "language_info": {
   "codemirror_mode": {
    "name": "ipython",
    "version": 3
   },
   "file_extension": ".py",
   "mimetype": "text/x-python",
   "name": "python",
   "nbconvert_exporter": "python",
   "pygments_lexer": "ipython3",
   "version": "3.11.5"
  }
 },
 "nbformat": 4,
 "nbformat_minor": 2
}
